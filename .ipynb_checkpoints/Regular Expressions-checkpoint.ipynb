{
 "cells": [
  {
   "cell_type": "markdown",
   "metadata": {},
   "source": [
    "Regular Expression \n",
    "\n",
    " The term \"regular expression\", is also called regex or regexp which were widely used in all different programming language."
   ]
  },
  {
   "cell_type": "markdown",
   "metadata": {},
   "source": [
    "Suppose you need to find a substring present in a given string. \n",
    "For example \"e\" in word=\"Apple\". Then the program checks each substrings and at the end when word[4]==\"e\" it outputs as True.\n",
    "So this uses \"sub\" which is also one of regress expression.\n",
    "Overall we can say Regrex expression is a expression which is used to parse certain words, phrase, keywords or important text from given input."
   ]
  },
  {
   "cell_type": "markdown",
   "metadata": {},
   "source": [
    "Lets us see the use of regular expression\n"
   ]
  },
  {
   "cell_type": "code",
   "execution_count": 5,
   "metadata": {},
   "outputs": [
    {
     "name": "stdout",
     "output_type": "stream",
     "text": [
      "<re.Match object; span=(12, 17), match='apple'>\n"
     ]
    }
   ],
   "source": [
    "\n",
    "import re\n",
    "x = re.search(\"apple\", \"There is an apple lying in the basket.\")\n",
    "print(x)"
   ]
  },
  {
   "cell_type": "markdown",
   "metadata": {},
   "source": [
    "The above example illustrate the use of 'search' method, that searches a word \"apple\" in given sentence and found to be in span 12:17."
   ]
  },
  {
   "cell_type": "code",
   "execution_count": 12,
   "metadata": {},
   "outputs": [
    {
     "name": "stdout",
     "output_type": "stream",
     "text": [
      "<re.Match object; span=(0, 7), match='Malvika'>\n"
     ]
    }
   ],
   "source": [
    "# Similarly other expressions like square brackets, \"['and']\",include a character class. For example:[ect] means either an \"e\", an \"c\" or a \"t\". Similarly [a-zA-Z] refers any letters, words begin with alphabetical order.The character \"-\" includes all characters between A to Z and a to z.\n",
    "\n",
    "x = re.search(r\"M[ae]l[av][kasi][kia]a\" , \"Malvika is going to Maldives\")\n",
    "print(x)\n",
    " "
   ]
  },
  {
   "cell_type": "code",
   "execution_count": null,
   "metadata": {},
   "outputs": [],
   "source": []
  }
 ],
 "metadata": {
  "kernelspec": {
   "display_name": "Python 3",
   "language": "python",
   "name": "python3"
  },
  "language_info": {
   "codemirror_mode": {
    "name": "ipython",
    "version": 3
   },
   "file_extension": ".py",
   "mimetype": "text/x-python",
   "name": "python",
   "nbconvert_exporter": "python",
   "pygments_lexer": "ipython3",
   "version": "3.7.6"
  }
 },
 "nbformat": 4,
 "nbformat_minor": 4
}
