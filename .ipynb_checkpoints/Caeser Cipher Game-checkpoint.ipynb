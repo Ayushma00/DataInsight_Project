{
 "cells": [
  {
   "cell_type": "markdown",
   "metadata": {},
   "source": [
    "# Encrypt the message"
   ]
  },
  {
   "cell_type": "code",
   "execution_count": 3,
   "metadata": {},
   "outputs": [],
   "source": [
    "def encrypt(text,shift):\n",
    "    message=''\n",
    "    for i in text:\n",
    "        if (i.isupper()):\n",
    "            message+=chr((ord(i)+shift-65)%26+65)\n",
    "        elif (i.islower()):\n",
    "            message+=chr((ord(i)+shift-97)%26+97)\n",
    "        else:\n",
    "            message+=i\n",
    "    return message\n",
    "        "
   ]
  },
  {
   "cell_type": "code",
   "execution_count": 15,
   "metadata": {},
   "outputs": [
    {
     "name": "stdout",
     "output_type": "stream",
     "text": [
      "Enter the message you want to encrypt Hi, this is Ana.\n",
      "Enter the shift 6\n",
      "The encrypted message is : No, znoy oy Gtg.\n"
     ]
    }
   ],
   "source": [
    "text=input(\"Enter the message you want to encrypt \")\n",
    "try:\n",
    "    shift=int(input(\"Enter the shift \"))\n",
    "    encrypted_message=encrypt(text,shift)\n",
    "except:\n",
    "    print(\"The shift should be integer\")\n",
    "    encrypted_message=encrypt(text,shift=4)\n",
    "\n",
    "print(f\"The encrypted message is : {encrypted_message}\")"
   ]
  },
  {
   "cell_type": "markdown",
   "metadata": {},
   "source": [
    "# Decrypt the message "
   ]
  },
  {
   "cell_type": "code",
   "execution_count": 12,
   "metadata": {},
   "outputs": [],
   "source": [
    "def decrypt(text,shift):\n",
    "    message=''\n",
    "    for i in text:\n",
    "        if (i.isupper()):\n",
    "            message+=chr((ord(i)-shift-65)%26+65)\n",
    "        elif (i.islower()):\n",
    "            message+=chr((ord(i)-shift-97)%26+97)\n",
    "        else:\n",
    "            message+=iN qtaj Dtz\n",
    "    return message"
   ]
  },
  {
   "cell_type": "code",
   "execution_count": 24,
   "metadata": {},
   "outputs": [
    {
     "name": "stdout",
     "output_type": "stream",
     "text": [
      "Enter the message you want to decrypt No, znoy oy Gtg.\n",
      "Enter the shift 6\n",
      "The decrypted message is : Hi, this is Ana.\n"
     ]
    }
   ],
   "source": [
    "text=input(\"Enter the message you want to decrypt \")\n",
    "try:\n",
    "    shift=int(input(\"Enter the shift \"))\n",
    "    decrypted_message=decrypt(text,shift)\n",
    "except:\n",
    "    print(\"The shift should be integer\")\n",
    "    decrypted_message=decrypt(text,shift=4)\n",
    "\n",
    "print(f\"The decrypted message is : {decrypted_message}\")"
   ]
  },
  {
   "cell_type": "code",
   "execution_count": null,
   "metadata": {},
   "outputs": [],
   "source": []
  }
 ],
 "metadata": {
  "kernelspec": {
   "display_name": "Python 3",
   "language": "python",
   "name": "python3"
  },
  "language_info": {
   "codemirror_mode": {
    "name": "ipython",
    "version": 3
   },
   "file_extension": ".py",
   "mimetype": "text/x-python",
   "name": "python",
   "nbconvert_exporter": "python",
   "pygments_lexer": "ipython3",
   "version": "3.7.6"
  }
 },
 "nbformat": 4,
 "nbformat_minor": 4
}
