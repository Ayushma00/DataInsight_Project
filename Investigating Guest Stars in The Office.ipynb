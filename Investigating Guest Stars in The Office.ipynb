{
 "cells": [
  {
   "cell_type": "code",
   "execution_count": 86,
   "metadata": {},
   "outputs": [],
   "source": [
    "import pandas as pd\n",
    "import matplotlib.pyplot as plt\n",
    "import seaborn as sns\n",
    "%matplotlib inline"
   ]
  },
  {
   "cell_type": "code",
   "execution_count": 66,
   "metadata": {},
   "outputs": [
    {
     "data": {
      "text/html": [
       "<div>\n",
       "<style scoped>\n",
       "    .dataframe tbody tr th:only-of-type {\n",
       "        vertical-align: middle;\n",
       "    }\n",
       "\n",
       "    .dataframe tbody tr th {\n",
       "        vertical-align: top;\n",
       "    }\n",
       "\n",
       "    .dataframe thead th {\n",
       "        text-align: right;\n",
       "    }\n",
       "</style>\n",
       "<table border=\"1\" class=\"dataframe\">\n",
       "  <thead>\n",
       "    <tr style=\"text-align: right;\">\n",
       "      <th></th>\n",
       "      <th>Unnamed: 0</th>\n",
       "      <th>Season</th>\n",
       "      <th>EpisodeTitle</th>\n",
       "      <th>About</th>\n",
       "      <th>Ratings</th>\n",
       "      <th>Votes</th>\n",
       "      <th>Viewership</th>\n",
       "      <th>Duration</th>\n",
       "      <th>Date</th>\n",
       "      <th>GuestStars</th>\n",
       "      <th>Director</th>\n",
       "      <th>Writers</th>\n",
       "    </tr>\n",
       "  </thead>\n",
       "  <tbody>\n",
       "    <tr>\n",
       "      <th>0</th>\n",
       "      <td>0</td>\n",
       "      <td>1</td>\n",
       "      <td>Pilot</td>\n",
       "      <td>The premiere episode introduces the boss and s...</td>\n",
       "      <td>7.5</td>\n",
       "      <td>4936</td>\n",
       "      <td>11.2</td>\n",
       "      <td>23</td>\n",
       "      <td>24 March 2005</td>\n",
       "      <td>NaN</td>\n",
       "      <td>Ken Kwapis</td>\n",
       "      <td>Ricky Gervais |Stephen Merchant and Greg Daniels</td>\n",
       "    </tr>\n",
       "    <tr>\n",
       "      <th>1</th>\n",
       "      <td>1</td>\n",
       "      <td>1</td>\n",
       "      <td>Diversity Day</td>\n",
       "      <td>Michael's off color remark puts a sensitivity ...</td>\n",
       "      <td>8.3</td>\n",
       "      <td>4801</td>\n",
       "      <td>6.0</td>\n",
       "      <td>23</td>\n",
       "      <td>29 March 2005</td>\n",
       "      <td>NaN</td>\n",
       "      <td>Ken Kwapis</td>\n",
       "      <td>B. J. Novak</td>\n",
       "    </tr>\n",
       "    <tr>\n",
       "      <th>2</th>\n",
       "      <td>2</td>\n",
       "      <td>1</td>\n",
       "      <td>Health Care</td>\n",
       "      <td>Michael leaves Dwight in charge of picking the...</td>\n",
       "      <td>7.8</td>\n",
       "      <td>4024</td>\n",
       "      <td>5.8</td>\n",
       "      <td>22</td>\n",
       "      <td>5 April 2005</td>\n",
       "      <td>NaN</td>\n",
       "      <td>Ken Whittingham</td>\n",
       "      <td>Paul Lieberstein</td>\n",
       "    </tr>\n",
       "    <tr>\n",
       "      <th>3</th>\n",
       "      <td>3</td>\n",
       "      <td>1</td>\n",
       "      <td>The Alliance</td>\n",
       "      <td>Just for a laugh, Jim agrees to an alliance wi...</td>\n",
       "      <td>8.1</td>\n",
       "      <td>3915</td>\n",
       "      <td>5.4</td>\n",
       "      <td>23</td>\n",
       "      <td>12 April 2005</td>\n",
       "      <td>NaN</td>\n",
       "      <td>Bryan Gordon</td>\n",
       "      <td>Michael Schur</td>\n",
       "    </tr>\n",
       "    <tr>\n",
       "      <th>4</th>\n",
       "      <td>4</td>\n",
       "      <td>1</td>\n",
       "      <td>Basketball</td>\n",
       "      <td>Michael and his staff challenge the warehouse ...</td>\n",
       "      <td>8.4</td>\n",
       "      <td>4294</td>\n",
       "      <td>5.0</td>\n",
       "      <td>23</td>\n",
       "      <td>19 April 2005</td>\n",
       "      <td>NaN</td>\n",
       "      <td>Greg Daniels</td>\n",
       "      <td>Greg Daniels</td>\n",
       "    </tr>\n",
       "  </tbody>\n",
       "</table>\n",
       "</div>"
      ],
      "text/plain": [
       "   Unnamed: 0  Season   EpisodeTitle  \\\n",
       "0           0       1          Pilot   \n",
       "1           1       1  Diversity Day   \n",
       "2           2       1    Health Care   \n",
       "3           3       1   The Alliance   \n",
       "4           4       1     Basketball   \n",
       "\n",
       "                                               About  Ratings  Votes  \\\n",
       "0  The premiere episode introduces the boss and s...      7.5   4936   \n",
       "1  Michael's off color remark puts a sensitivity ...      8.3   4801   \n",
       "2  Michael leaves Dwight in charge of picking the...      7.8   4024   \n",
       "3  Just for a laugh, Jim agrees to an alliance wi...      8.1   3915   \n",
       "4  Michael and his staff challenge the warehouse ...      8.4   4294   \n",
       "\n",
       "   Viewership  Duration            Date GuestStars         Director  \\\n",
       "0        11.2        23   24 March 2005        NaN       Ken Kwapis   \n",
       "1         6.0        23   29 March 2005        NaN       Ken Kwapis   \n",
       "2         5.8        22    5 April 2005        NaN  Ken Whittingham   \n",
       "3         5.4        23   12 April 2005        NaN     Bryan Gordon   \n",
       "4         5.0        23   19 April 2005        NaN     Greg Daniels   \n",
       "\n",
       "                                            Writers  \n",
       "0  Ricky Gervais |Stephen Merchant and Greg Daniels  \n",
       "1                                       B. J. Novak  \n",
       "2                                  Paul Lieberstein  \n",
       "3                                     Michael Schur  \n",
       "4                                      Greg Daniels  "
      ]
     },
     "execution_count": 66,
     "metadata": {},
     "output_type": "execute_result"
    }
   ],
   "source": [
    "\n",
    "data=pd.read_csv(\"the_office_series.csv\")\n",
    "data.head(5)"
   ]
  },
  {
   "cell_type": "code",
   "execution_count": 67,
   "metadata": {},
   "outputs": [
    {
     "name": "stdout",
     "output_type": "stream",
     "text": [
      "<class 'pandas.core.frame.DataFrame'>\n",
      "RangeIndex: 188 entries, 0 to 187\n",
      "Data columns (total 12 columns):\n",
      " #   Column        Non-Null Count  Dtype  \n",
      "---  ------        --------------  -----  \n",
      " 0   Unnamed: 0    188 non-null    int64  \n",
      " 1   Season        188 non-null    int64  \n",
      " 2   EpisodeTitle  188 non-null    object \n",
      " 3   About         188 non-null    object \n",
      " 4   Ratings       188 non-null    float64\n",
      " 5   Votes         188 non-null    int64  \n",
      " 6   Viewership    188 non-null    float64\n",
      " 7   Duration      188 non-null    int64  \n",
      " 8   Date          188 non-null    object \n",
      " 9   GuestStars    29 non-null     object \n",
      " 10  Director      188 non-null    object \n",
      " 11  Writers       188 non-null    object \n",
      "dtypes: float64(2), int64(4), object(6)\n",
      "memory usage: 17.8+ KB\n"
     ]
    }
   ],
   "source": [
    "data.info()"
   ]
  },
  {
   "cell_type": "markdown",
   "metadata": {},
   "source": [
    "# Renaming the name of columnsfor better visualizations"
   ]
  },
  {
   "cell_type": "code",
   "execution_count": 68,
   "metadata": {},
   "outputs": [],
   "source": [
    "data.columns=['episode_number', 'season', 'episode_title', 'description', 'ratings',\n",
    "       'votes', 'viewership_mil', 'duration', 'release_date', 'guest_stars',\n",
    "       'director', 'writers']\n"
   ]
  },
  {
   "cell_type": "code",
   "execution_count": 69,
   "metadata": {},
   "outputs": [],
   "source": [
    "def minmax(df):\n",
    "    return round((df[\"ratings\"]-df[\"ratings\"].min())/(df[\"ratings\"].max()-df[\"ratings\"].min()),2)"
   ]
  },
  {
   "cell_type": "code",
   "execution_count": 70,
   "metadata": {},
   "outputs": [
    {
     "data": {
      "text/plain": [
       "9.8"
      ]
     },
     "execution_count": 70,
     "metadata": {},
     "output_type": "execute_result"
    }
   ],
   "source": [
    "data[\"ratings\"].max()"
   ]
  },
  {
   "cell_type": "code",
   "execution_count": 71,
   "metadata": {},
   "outputs": [
    {
     "data": {
      "text/plain": [
       "0.28125"
      ]
     },
     "execution_count": 71,
     "metadata": {},
     "output_type": "execute_result"
    }
   ],
   "source": [
    "(7.5-6.6)/(9.8-6.6)"
   ]
  },
  {
   "cell_type": "code",
   "execution_count": 72,
   "metadata": {},
   "outputs": [],
   "source": [
    "data[\"has_guests\"]=data[\"guest_stars\"].notnull()\n",
    "data[\"scaled_ratings\"]=minmax(data)\n",
    "\n",
    "# if data[\"guest_stars\"].isnull().values.any():\n",
    "#     print(\"ok\")\n",
    "# has_guest=[]\n",
    "# for index, rows in data.iterrows():\n",
    "#     if rows[\"guest_stars\"].isnull().values.any():\n",
    "#         print(rows[\"guest_stars\"])\n",
    "# #         has_guest.append(\"False\")\n",
    "#     else:\n",
    "#         has_guest.append(\"True\")\n",
    "# data[\"has_guest\"]=has_guest\n",
    "# data['has_guests', 'scaled_ratings'\"]"
   ]
  },
  {
   "cell_type": "code",
   "execution_count": 98,
   "metadata": {},
   "outputs": [
    {
     "data": {
      "text/html": [
       "<div>\n",
       "<style scoped>\n",
       "    .dataframe tbody tr th:only-of-type {\n",
       "        vertical-align: middle;\n",
       "    }\n",
       "\n",
       "    .dataframe tbody tr th {\n",
       "        vertical-align: top;\n",
       "    }\n",
       "\n",
       "    .dataframe thead th {\n",
       "        text-align: right;\n",
       "    }\n",
       "</style>\n",
       "<table border=\"1\" class=\"dataframe\">\n",
       "  <thead>\n",
       "    <tr style=\"text-align: right;\">\n",
       "      <th></th>\n",
       "      <th>episode_number</th>\n",
       "      <th>season</th>\n",
       "      <th>episode_title</th>\n",
       "      <th>description</th>\n",
       "      <th>ratings</th>\n",
       "      <th>votes</th>\n",
       "      <th>viewership_mil</th>\n",
       "      <th>duration</th>\n",
       "      <th>release_date</th>\n",
       "      <th>guest_stars</th>\n",
       "      <th>director</th>\n",
       "      <th>writers</th>\n",
       "      <th>has_guests</th>\n",
       "      <th>scaled_ratings</th>\n",
       "    </tr>\n",
       "  </thead>\n",
       "  <tbody>\n",
       "    <tr>\n",
       "      <th>0</th>\n",
       "      <td>0</td>\n",
       "      <td>1</td>\n",
       "      <td>Pilot</td>\n",
       "      <td>The premiere episode introduces the boss and s...</td>\n",
       "      <td>7.5</td>\n",
       "      <td>4936</td>\n",
       "      <td>11.20</td>\n",
       "      <td>23</td>\n",
       "      <td>24 March 2005</td>\n",
       "      <td>NaN</td>\n",
       "      <td>Ken Kwapis</td>\n",
       "      <td>Ricky Gervais |Stephen Merchant and Greg Daniels</td>\n",
       "      <td>False</td>\n",
       "      <td>0.28</td>\n",
       "    </tr>\n",
       "    <tr>\n",
       "      <th>1</th>\n",
       "      <td>1</td>\n",
       "      <td>1</td>\n",
       "      <td>Diversity Day</td>\n",
       "      <td>Michael's off color remark puts a sensitivity ...</td>\n",
       "      <td>8.3</td>\n",
       "      <td>4801</td>\n",
       "      <td>6.00</td>\n",
       "      <td>23</td>\n",
       "      <td>29 March 2005</td>\n",
       "      <td>NaN</td>\n",
       "      <td>Ken Kwapis</td>\n",
       "      <td>B. J. Novak</td>\n",
       "      <td>False</td>\n",
       "      <td>0.53</td>\n",
       "    </tr>\n",
       "    <tr>\n",
       "      <th>2</th>\n",
       "      <td>2</td>\n",
       "      <td>1</td>\n",
       "      <td>Health Care</td>\n",
       "      <td>Michael leaves Dwight in charge of picking the...</td>\n",
       "      <td>7.8</td>\n",
       "      <td>4024</td>\n",
       "      <td>5.80</td>\n",
       "      <td>22</td>\n",
       "      <td>5 April 2005</td>\n",
       "      <td>NaN</td>\n",
       "      <td>Ken Whittingham</td>\n",
       "      <td>Paul Lieberstein</td>\n",
       "      <td>False</td>\n",
       "      <td>0.37</td>\n",
       "    </tr>\n",
       "    <tr>\n",
       "      <th>3</th>\n",
       "      <td>3</td>\n",
       "      <td>1</td>\n",
       "      <td>The Alliance</td>\n",
       "      <td>Just for a laugh, Jim agrees to an alliance wi...</td>\n",
       "      <td>8.1</td>\n",
       "      <td>3915</td>\n",
       "      <td>5.40</td>\n",
       "      <td>23</td>\n",
       "      <td>12 April 2005</td>\n",
       "      <td>NaN</td>\n",
       "      <td>Bryan Gordon</td>\n",
       "      <td>Michael Schur</td>\n",
       "      <td>False</td>\n",
       "      <td>0.47</td>\n",
       "    </tr>\n",
       "    <tr>\n",
       "      <th>4</th>\n",
       "      <td>4</td>\n",
       "      <td>1</td>\n",
       "      <td>Basketball</td>\n",
       "      <td>Michael and his staff challenge the warehouse ...</td>\n",
       "      <td>8.4</td>\n",
       "      <td>4294</td>\n",
       "      <td>5.00</td>\n",
       "      <td>23</td>\n",
       "      <td>19 April 2005</td>\n",
       "      <td>NaN</td>\n",
       "      <td>Greg Daniels</td>\n",
       "      <td>Greg Daniels</td>\n",
       "      <td>False</td>\n",
       "      <td>0.56</td>\n",
       "    </tr>\n",
       "    <tr>\n",
       "      <th>...</th>\n",
       "      <td>...</td>\n",
       "      <td>...</td>\n",
       "      <td>...</td>\n",
       "      <td>...</td>\n",
       "      <td>...</td>\n",
       "      <td>...</td>\n",
       "      <td>...</td>\n",
       "      <td>...</td>\n",
       "      <td>...</td>\n",
       "      <td>...</td>\n",
       "      <td>...</td>\n",
       "      <td>...</td>\n",
       "      <td>...</td>\n",
       "      <td>...</td>\n",
       "    </tr>\n",
       "    <tr>\n",
       "      <th>183</th>\n",
       "      <td>183</td>\n",
       "      <td>9</td>\n",
       "      <td>Stairmageddon</td>\n",
       "      <td>Dwight shoots Stanley with a bull tranquilizer...</td>\n",
       "      <td>8.0</td>\n",
       "      <td>1985</td>\n",
       "      <td>3.83</td>\n",
       "      <td>22</td>\n",
       "      <td>11 April 2013</td>\n",
       "      <td>NaN</td>\n",
       "      <td>Matt Sohn</td>\n",
       "      <td>Dan Sterling</td>\n",
       "      <td>False</td>\n",
       "      <td>0.44</td>\n",
       "    </tr>\n",
       "    <tr>\n",
       "      <th>184</th>\n",
       "      <td>184</td>\n",
       "      <td>9</td>\n",
       "      <td>Paper Airplane</td>\n",
       "      <td>The employees hold a paper airplane competitio...</td>\n",
       "      <td>8.0</td>\n",
       "      <td>2007</td>\n",
       "      <td>3.25</td>\n",
       "      <td>22</td>\n",
       "      <td>25 April 2013</td>\n",
       "      <td>NaN</td>\n",
       "      <td>Jesse Peretz</td>\n",
       "      <td>Halsted Sullivan | Warren Lieberstein</td>\n",
       "      <td>False</td>\n",
       "      <td>0.44</td>\n",
       "    </tr>\n",
       "    <tr>\n",
       "      <th>185</th>\n",
       "      <td>185</td>\n",
       "      <td>9</td>\n",
       "      <td>Livin' the Dream</td>\n",
       "      <td>Dwight becomes regional manager after Andy qui...</td>\n",
       "      <td>9.0</td>\n",
       "      <td>2831</td>\n",
       "      <td>3.51</td>\n",
       "      <td>42</td>\n",
       "      <td>2 May 2013</td>\n",
       "      <td>Michael Imperioli</td>\n",
       "      <td>Jeffrey Blitz</td>\n",
       "      <td>Niki Schwartz-Wright</td>\n",
       "      <td>True</td>\n",
       "      <td>0.75</td>\n",
       "    </tr>\n",
       "    <tr>\n",
       "      <th>186</th>\n",
       "      <td>186</td>\n",
       "      <td>9</td>\n",
       "      <td>A.A.R.M.</td>\n",
       "      <td>Dwight prepares for a marriage proposal and hi...</td>\n",
       "      <td>9.5</td>\n",
       "      <td>3914</td>\n",
       "      <td>4.56</td>\n",
       "      <td>43</td>\n",
       "      <td>9 May 2013</td>\n",
       "      <td>NaN</td>\n",
       "      <td>David Rogers</td>\n",
       "      <td>Brent Forrester</td>\n",
       "      <td>False</td>\n",
       "      <td>0.91</td>\n",
       "    </tr>\n",
       "    <tr>\n",
       "      <th>187</th>\n",
       "      <td>187</td>\n",
       "      <td>9</td>\n",
       "      <td>Finale</td>\n",
       "      <td>One year later, Dunder Mifflin employees past ...</td>\n",
       "      <td>9.8</td>\n",
       "      <td>10515</td>\n",
       "      <td>5.69</td>\n",
       "      <td>51</td>\n",
       "      <td>16 May 2013</td>\n",
       "      <td>Joan Cusack, Ed Begley Jr, Rachel Harris, Nanc...</td>\n",
       "      <td>Ken Kwapis</td>\n",
       "      <td>Greg Daniels</td>\n",
       "      <td>True</td>\n",
       "      <td>1.00</td>\n",
       "    </tr>\n",
       "  </tbody>\n",
       "</table>\n",
       "<p>188 rows × 14 columns</p>\n",
       "</div>"
      ],
      "text/plain": [
       "     episode_number  season     episode_title  \\\n",
       "0                 0       1             Pilot   \n",
       "1                 1       1     Diversity Day   \n",
       "2                 2       1       Health Care   \n",
       "3                 3       1      The Alliance   \n",
       "4                 4       1        Basketball   \n",
       "..              ...     ...               ...   \n",
       "183             183       9     Stairmageddon   \n",
       "184             184       9    Paper Airplane   \n",
       "185             185       9  Livin' the Dream   \n",
       "186             186       9          A.A.R.M.   \n",
       "187             187       9            Finale   \n",
       "\n",
       "                                           description  ratings  votes  \\\n",
       "0    The premiere episode introduces the boss and s...      7.5   4936   \n",
       "1    Michael's off color remark puts a sensitivity ...      8.3   4801   \n",
       "2    Michael leaves Dwight in charge of picking the...      7.8   4024   \n",
       "3    Just for a laugh, Jim agrees to an alliance wi...      8.1   3915   \n",
       "4    Michael and his staff challenge the warehouse ...      8.4   4294   \n",
       "..                                                 ...      ...    ...   \n",
       "183  Dwight shoots Stanley with a bull tranquilizer...      8.0   1985   \n",
       "184  The employees hold a paper airplane competitio...      8.0   2007   \n",
       "185  Dwight becomes regional manager after Andy qui...      9.0   2831   \n",
       "186  Dwight prepares for a marriage proposal and hi...      9.5   3914   \n",
       "187  One year later, Dunder Mifflin employees past ...      9.8  10515   \n",
       "\n",
       "     viewership_mil  duration    release_date  \\\n",
       "0             11.20        23   24 March 2005   \n",
       "1              6.00        23   29 March 2005   \n",
       "2              5.80        22    5 April 2005   \n",
       "3              5.40        23   12 April 2005   \n",
       "4              5.00        23   19 April 2005   \n",
       "..              ...       ...             ...   \n",
       "183            3.83        22   11 April 2013   \n",
       "184            3.25        22   25 April 2013   \n",
       "185            3.51        42      2 May 2013   \n",
       "186            4.56        43      9 May 2013   \n",
       "187            5.69        51     16 May 2013   \n",
       "\n",
       "                                           guest_stars         director  \\\n",
       "0                                                  NaN       Ken Kwapis   \n",
       "1                                                  NaN       Ken Kwapis   \n",
       "2                                                  NaN  Ken Whittingham   \n",
       "3                                                  NaN     Bryan Gordon   \n",
       "4                                                  NaN     Greg Daniels   \n",
       "..                                                 ...              ...   \n",
       "183                                                NaN        Matt Sohn   \n",
       "184                                                NaN     Jesse Peretz   \n",
       "185                                 Michael Imperioli     Jeffrey Blitz   \n",
       "186                                                NaN     David Rogers   \n",
       "187  Joan Cusack, Ed Begley Jr, Rachel Harris, Nanc...       Ken Kwapis   \n",
       "\n",
       "                                              writers  has_guests  \\\n",
       "0    Ricky Gervais |Stephen Merchant and Greg Daniels       False   \n",
       "1                                         B. J. Novak       False   \n",
       "2                                    Paul Lieberstein       False   \n",
       "3                                       Michael Schur       False   \n",
       "4                                        Greg Daniels       False   \n",
       "..                                                ...         ...   \n",
       "183                                      Dan Sterling       False   \n",
       "184             Halsted Sullivan | Warren Lieberstein       False   \n",
       "185                              Niki Schwartz-Wright        True   \n",
       "186                                   Brent Forrester       False   \n",
       "187                                      Greg Daniels        True   \n",
       "\n",
       "     scaled_ratings  \n",
       "0              0.28  \n",
       "1              0.53  \n",
       "2              0.37  \n",
       "3              0.47  \n",
       "4              0.56  \n",
       "..              ...  \n",
       "183            0.44  \n",
       "184            0.44  \n",
       "185            0.75  \n",
       "186            0.91  \n",
       "187            1.00  \n",
       "\n",
       "[188 rows x 14 columns]"
      ]
     },
     "execution_count": 98,
     "metadata": {},
     "output_type": "execute_result"
    }
   ],
   "source": [
    "data"
   ]
  },
  {
   "cell_type": "code",
   "execution_count": 113,
   "metadata": {},
   "outputs": [
    {
     "data": {
      "image/png": "[encoded data removed]",
      "text/plain": [
       "<Figure size 648x360 with 1 Axes>"
      ]
     },
     "metadata": {
      "needs_background": "light"
     },
     "output_type": "display_data"
    }
   ],
   "source": [
    "# Plot which seasons has the highest ratings:\n",
    "plt.rcParams['figure.figsize']=[9,5]\n",
    "fig=plt.figure()\n",
    "ax=fig.add_axes([0,0,1,1])\n",
    "sns.barplot(x=\"season\", y=\"ratings\", data=data)\n",
    "plt.show()\n"
   ]
  },
  {
   "cell_type": "code",
   "execution_count": 141,
   "metadata": {},
   "outputs": [
    {
     "data": {
      "image/png": "[encoded data removed]",
      "text/plain": [
       "<Figure size 648x360 with 1 Axes>"
      ]
     },
     "metadata": {
      "needs_background": "light"
     },
     "output_type": "display_data"
    }
   ],
   "source": [
    "fig=plt.figure()\n",
    "color=[]\n",
    "stars=[]\n",
    "for index,rows in data.iterrows():\n",
    "    if rows[\"scaled_ratings\"]>= 0.75:\n",
    "        color.append(\"darkgreen\")\n",
    "        \n",
    "    elif rows[\"scaled_ratings\"]>=0.50 and rows[\"scaled_ratings\"]<0.75:\n",
    "        color.append(\"lightgreen\")\n",
    "    elif rows[\"scaled_ratings\"]>=0.25 and rows[\"scaled_ratings\"]<0.50:\n",
    "        color.append(\"orange\")\n",
    "    else:\n",
    "        color.append(\"red\")\n",
    "sizer=[]\n",
    "for index,rows in data.iterrows():\n",
    "    if rows[\"has_guests\"]==True:\n",
    "        sizer.append(250) \n",
    "        \n",
    "    else:\n",
    "        sizer.append(25)      \n",
    "\n",
    "plt.scatter(data[\"episode_number\"],y=data[\"viewership_mil\"],c=color,s=sizer)\n",
    "plt.xlabel(\"Episode Number\")\n",
    "plt.ylabel(\"Viewership (Millions)\")\n",
    "plt.title(\"Popularity, Quality, and Guest Appearances on the Office\")\n",
    "\n",
    "plt.show()"
   ]
  },
  {
   "cell_type": "code",
   "execution_count": 110,
   "metadata": {},
   "outputs": [
    {
     "data": {
      "text/plain": [
       "77    Cloris Leachman, Jack Black, Jessica Alba\n",
       "Name: guest_stars, dtype: object"
      ]
     },
     "execution_count": 110,
     "metadata": {},
     "output_type": "execute_result"
    }
   ],
   "source": [
    "top_star=data[data[\"viewership_mil\"]>=20][\"guest_stars\"]\n",
    "top_star"
   ]
  },
  {
   "cell_type": "code",
   "execution_count": 132,
   "metadata": {},
   "outputs": [
    {
     "data": {
      "image/png": "[encoded data removed]",
      "text/plain": [
       "<Figure size 648x360 with 1 Axes>"
      ]
     },
     "metadata": {
      "needs_background": "light"
     },
     "output_type": "display_data"
    }
   ],
   "source": [
    "# Highest voted seasons\n",
    "plt.rcParams['figure.figsize']=[9,5]\n",
    "fig=plt.figure()\n",
    "ax=fig.add_axes([0,0,1,1])\n",
    "sns.barplot(x=\"season\", y=\"votes\", data=data)\n",
    "plt.title(\"The seasons verses highest votes.\")\n",
    "plt.show()\n"
   ]
  },
  {
   "cell_type": "markdown",
   "metadata": {},
   "source": [
    "The seasons rating verses vote given"
   ]
  },
  {
   "cell_type": "code",
   "execution_count": 167,
   "metadata": {},
   "outputs": [
    {
     "name": "stdout",
     "output_type": "stream",
     "text": [
      "   season        votes   ratings  viewership_mil   duration\n",
      "0       1  4304.000000  7.966667        6.366667  22.833333\n",
      "1       2  3493.909091  8.440909        8.168182  22.636364\n",
      "2       3  3224.086957  8.586957        8.494348  25.782609\n",
      "3       4  3195.642857  8.564286        8.547857  32.500000\n",
      "4       5  2885.615385  8.488462        8.756538  28.884615\n",
      "5       6  2505.307692  8.196154        7.766154  29.038462\n",
      "6       7  2748.083333  8.308333        7.305833  31.083333\n",
      "7       8  2039.250000  7.604167        5.385417  23.000000\n",
      "8       9  2475.826087  7.913043        4.138696  26.043478\n"
     ]
    },
    {
     "data": {
      "image/png": "[encoded data removed]",
      "text/plain": [
       "<Figure size 648x360 with 1 Axes>"
      ]
     },
     "metadata": {
      "needs_background": "light"
     },
     "output_type": "display_data"
    },
    {
     "data": {
      "image/png": "[encoded data removed]",
      "text/plain": [
       "<Figure size 648x360 with 1 Axes>"
      ]
     },
     "metadata": {
      "needs_background": "light"
     },
     "output_type": "display_data"
    }
   ],
   "source": [
    "fig=plt.figure()\n",
    "\n",
    "\n",
    "df=data.groupby('season')[['votes','ratings',\"viewership_mil\",'duration']].mean().reset_index()\n",
    "\n",
    "print(df)\n",
    "seasons=data[\"season\"]\n",
    "sns.scatterplot(data=df, x=\"ratings\", y=\"votes\", hue=\"season\",size=\"season\",\n",
    "    sizes=(20, 200), legend=\"full\")\n",
    "plt.xlabel(\"Ratings for the given seasons\")\n",
    "plt.ylabel(\"Votes taken)\")\n",
    "plt.title(\"Rating and votes on the Office\")\n",
    "plt.legend()\n",
    "plt.show()\n",
    "sns.scatterplot(data=df, x=\"duration\", y=\"viewership_mil\", hue=\"season\",size=\"season\",\n",
    "    sizes=(20, 200), legend=\"full\")\n",
    "plt.xlabel(\"Views in the season for the average length of the seasons\")\n",
    "plt.ylabel(\"Average Duration of the of episode in the seasons )\")\n",
    "plt.title(\"Number of Views\")\n",
    "plt.legend()\n",
    "# plt.scatter(df[\"ratings\"],y=df[\"votes\"],c=df[\"season\"] ,s=df[\"viewership_mil\"],label=df[\"season\"])\n",
    "\n",
    "plt.show()"
   ]
  },
  {
   "cell_type": "code",
   "execution_count": null,
   "metadata": {},
   "outputs": [],
   "source": []
  }
 ],
 "metadata": {
  "kernelspec": {
   "display_name": "Python 3",
   "language": "python",
   "name": "python3"
  },
  "language_info": {
   "codemirror_mode": {
    "name": "ipython",
    "version": 3
   },
   "file_extension": ".py",
   "mimetype": "text/x-python",
   "name": "python",
   "nbconvert_exporter": "python",
   "pygments_lexer": "ipython3",
   "version": "3.7.6"
  }
 },
 "nbformat": 4,
 "nbformat_minor": 4
}
