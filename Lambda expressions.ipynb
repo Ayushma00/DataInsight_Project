{
 "cells": [
  {
   "cell_type": "markdown",
   "metadata": {},
   "source": [
    "# Lambda Expression\n",
    "The lambda operator or lambda function used in python can be called as simple function without name. It is generally used when the function is needed for temporary period of time and is used inside the other functions like filter(), map() etc. It reduces the line of code as compared to normal functions.\n",
    "The general syntax of a lambda function is quite simple:\n",
    "\n",
    "### lambda argument_list: expression\n",
    "\n",
    "argument_list= represents the comma separated list of arguments\n",
    "\n",
    "expression= arithmethic expressions using arguments.\n"
   ]
  },
  {
   "cell_type": "code",
   "execution_count": 20,
   "metadata": {
    "scrolled": true
   },
   "outputs": [
    {
     "data": {
      "text/plain": [
       "20"
      ]
     },
     "execution_count": 20,
     "metadata": {},
     "output_type": "execute_result"
    }
   ],
   "source": [
    "multiply=lambda x,y:x*y\n",
    "multiply(5,4)"
   ]
  },
  {
   "cell_type": "markdown",
   "metadata": {},
   "source": [
    "Compare to the normal function, the above lambda expression can as be written as:"
   ]
  },
  {
   "cell_type": "code",
   "execution_count": 11,
   "metadata": {},
   "outputs": [
    {
     "data": {
      "text/plain": [
       "20"
      ]
     },
     "execution_count": 11,
     "metadata": {},
     "output_type": "execute_result"
    }
   ],
   "source": [
    "def multiply(x,y):\n",
    "    mul=x*y\n",
    "    return mul\n",
    "multiply(5,4)"
   ]
  },
  {
   "cell_type": "markdown",
   "metadata": {},
   "source": [
    "Now lets use map() function to express the lambda function"
   ]
  },
  {
   "cell_type": "markdown",
   "metadata": {},
   "source": [
    "The map() function can be expressed as shown as below:\n",
    "\n",
    "### r = map(func, seq)\n",
    "It uses two expression, the first argument is the function and the second argument is a sequence (example list) which are applied to the function. \n"
   ]
  },
  {
   "cell_type": "code",
   "execution_count": 18,
   "metadata": {},
   "outputs": [
    {
     "name": "stdout",
     "output_type": "stream",
     "text": [
      "The Body Mass Index of students are [15.095, 24.444, 26.172, 16.649, 19.631]\n"
     ]
    }
   ],
   "source": [
    "weight_of_students=[50,55,67,40,43]\n",
    "height_of_students=[1.82,1.50,1.60,1.55,1.48]\n",
    "BMI = list(map(lambda x,y: round(x/(y*y),3), weight_of_students,height_of_students))\n",
    "print(\"The Body Mass Index of students are\",BMI)"
   ]
  },
  {
   "cell_type": "code",
   "execution_count": 19,
   "metadata": {},
   "outputs": [
    {
     "name": "stdout",
     "output_type": "stream",
     "text": [
      "[1092.0833333333333, 2653.3333333333335, 599.0]\n"
     ]
    }
   ],
   "source": [
    "\n",
    "a = [21, 51, 12]\n",
    "b = [-12, -12, 1, 1]\n",
    "c = [-1, -4, 5, 9]\n",
    " \n",
    "answer=list(map(lambda x, y, z : 52*x-z/y*z, a, b, c))\n",
    "print(answer)"
   ]
  },
  {
   "cell_type": "code",
   "execution_count": null,
   "metadata": {},
   "outputs": [],
   "source": []
  }
 ],
 "metadata": {
  "kernelspec": {
   "display_name": "Python 3",
   "language": "python",
   "name": "python3"
  },
  "language_info": {
   "codemirror_mode": {
    "name": "ipython",
    "version": 3
   },
   "file_extension": ".py",
   "mimetype": "text/x-python",
   "name": "python",
   "nbconvert_exporter": "python",
   "pygments_lexer": "ipython3",
   "version": "3.7.6"
  }
 },
 "nbformat": 4,
 "nbformat_minor": 4
}
