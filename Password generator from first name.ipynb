{
 "cells": [
  {
   "cell_type": "markdown",
   "metadata": {},
   "source": [
    "# Import all the necessary modules"
   ]
  },
  {
   "cell_type": "code",
   "execution_count": 142,
   "metadata": {},
   "outputs": [],
   "source": [
    "import numpy as np\n",
    "import matplotlib.pyplot as plt\n",
    "import random"
   ]
  },
  {
   "cell_type": "code",
   "execution_count": 143,
   "metadata": {},
   "outputs": [],
   "source": [
    "operators=\"!@£$%^&*?+-#%{}[]<>,.\" \n",
    "num=\"1234567890\"\n",
    "chars = 'abcdefghijklmnopqrstuvwxyzABCDEFGHIJKLMNOPQRSTUVWXYZ'"
   ]
  },
  {
   "cell_type": "markdown",
   "metadata": {},
   "source": [
    "# Getting the username and length of password from user"
   ]
  },
  {
   "cell_type": "code",
   "execution_count": 154,
   "metadata": {},
   "outputs": [],
   "source": [
    "def getUsername():\n",
    "    username=input(\"Enter your first name. \")\n",
    "    if username== '' or username.isalpha()==False :\n",
    "        print(\"The username can't be empty and should contain character.\")\n",
    "        username=getUsername()\n",
    "    return username\n",
    "def getPwLength():    \n",
    "    length=int(input(\"Enter the length of password \"))\n",
    "    if 8>length<16:\n",
    "        while(length<8):\n",
    "            print(\"The length of password must be greater or equal to 8 and less than 16 \")\n",
    "            length=int(input(\"Re-enter the length of password \"))\n",
    "    return length"
   ]
  },
  {
   "cell_type": "code",
   "execution_count": 155,
   "metadata": {},
   "outputs": [
    {
     "name": "stdout",
     "output_type": "stream",
     "text": [
      "Enter your first name. Mary\n",
      "Enter the length of password 10\n"
     ]
    }
   ],
   "source": [
    "\n",
    "username=getUsername()\n",
    "length=getPwLength()"
   ]
  },
  {
   "cell_type": "code",
   "execution_count": 156,
   "metadata": {},
   "outputs": [
    {
     "name": "stdout",
     "output_type": "stream",
     "text": [
      "10\n"
     ]
    }
   ],
   "source": [
    "print(length)"
   ]
  },
  {
   "cell_type": "markdown",
   "metadata": {},
   "source": [
    "# Characters must include to create strong password"
   ]
  },
  {
   "cell_type": "code",
   "execution_count": 157,
   "metadata": {},
   "outputs": [
    {
     "name": "stdout",
     "output_type": "stream",
     "text": [
      "!@£$%^&*?+-#%{}[]<>,.1234567890abcdefghijklmnopqrstuvwxyzABCDEFGHIJKLMNOPQRSTUVWXYZ\n"
     ]
    }
   ],
   "source": [
    "pwd=operators+num+chars\n",
    "print(pwd)"
   ]
  },
  {
   "cell_type": "markdown",
   "metadata": {},
   "source": [
    "# Password Generation"
   ]
  },
  {
   "cell_type": "code",
   "execution_count": 158,
   "metadata": {},
   "outputs": [],
   "source": [
    "def ConvertToList(string):\n",
    "    list1=[]\n",
    "    list1[:0]=string\n",
    "    return list1\n",
    "def ConvertToString(liste): \n",
    "    str1 = \"\" \n",
    "    return (str1.join(liste))\n",
    "        \n",
    "        "
   ]
  },
  {
   "cell_type": "code",
   "execution_count": 159,
   "metadata": {},
   "outputs": [
    {
     "name": "stdout",
     "output_type": "stream",
     "text": [
      "MaryM<yTZ#\n",
      "Converting string to list type <class 'list'>\n",
      "['M', 'a', 'r', 'y', 'M', '<', 'y', 'T', 'Z', '#']\n",
      "Suffled password ['M', '<', '#', 'Z', 'y', 'r', 'y', 'T', 'a', 'M']\n",
      "The final password having the username is M<#ZyryTaM\n"
     ]
    }
   ],
   "source": [
    "pw=''\n",
    "for i in range(length-len(username)):\n",
    "    pw += random.choice(pwd)\n",
    "pw=username+pw\n",
    "print(pw)\n",
    "pword =ConvertToList(pw)\n",
    "print(\"Converting string to list type\",type(pword))\n",
    "print(pword)\n",
    "random.shuffle(pword)\n",
    "print(\"Suffled password\",pword)\n",
    "password=ConvertToString(pword)\n",
    "print(\"The final password having the username is\",password)"
   ]
  },
  {
   "cell_type": "code",
   "execution_count": null,
   "metadata": {},
   "outputs": [],
   "source": []
  }
 ],
 "metadata": {
  "kernelspec": {
   "display_name": "Python 3",
   "language": "python",
   "name": "python3"
  },
  "language_info": {
   "codemirror_mode": {
    "name": "ipython",
    "version": 3
   },
   "file_extension": ".py",
   "mimetype": "text/x-python",
   "name": "python",
   "nbconvert_exporter": "python",
   "pygments_lexer": "ipython3",
   "version": "3.7.6"
  }
 },
 "nbformat": 4,
 "nbformat_minor": 4
}
